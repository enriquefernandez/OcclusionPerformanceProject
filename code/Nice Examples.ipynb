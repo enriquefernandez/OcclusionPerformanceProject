{
 "cells": [
  {
   "cell_type": "code",
   "execution_count": null,
   "metadata": {
    "collapsed": true
   },
   "outputs": [],
   "source": [
    "# Bird still detected even at 75% random occlusion with ResNet\n",
    "# Maybe because mouth still visible?\n",
    "\n",
    "sidx = 3125\n",
    "model_name = \"resnet50\"\n",
    "data_name = \"bb_random_075\"\n",
    "# data_name = \"original\"\n",
    "results_file = os.path.join(results, \"preds_{}_{}.h5\".format(model_name, data_name))\n",
    "db_bb_file = os.path.join(bb_folder, \"{}.h5\".format(data_name))\n",
    "db_bb_file = db_bb_file if data_name != \"original\" else None\n",
    "\n",
    "data_loader = ValDataLoader(db, (224,224), db_bb_file)\n",
    "_, img = data_loader.prepare_img(sidx, add_noise=True, show_bb=True)\n",
    "# plt.imshow(img)\n",
    "# plt.subplot(1,2,1)\n",
    "fig = plt.figure()\n",
    "ax1 = fig.add_axes((.1,.4,1,.8))\n",
    "ax1.imshow(img)\n",
    "ax1.set_title(syn_data.det_name_from_id(db.labels[sidx]))\n",
    "# plt.subplot(1,2,2)\n",
    "fig.text(0.1,0.1,\"Hi there\\nHi there 2\")\n",
    "\n",
    "# Predictions\n",
    "\n",
    "f_h5 = h5py.File(results_file)\n",
    "top5_det = f_h5[\"top5_det\"][sidx, :]\n",
    "top5_clsloc = f_h5[\"top5_clsloc\"][sidx, :]\n",
    "print(top5_clsloc)\n",
    "names = [syn_data.clsloc_synsets[syn_data.clsloc_synsets_id[x]][\"name\"] for x in top5_clsloc]\n",
    "print(names)\n",
    "print(top5_det)\n",
    "names = [syn_data.det_synsets[syn_data.det_synsets_id[x]][\"name\"] for x in top5_det\n",
    "        if x > 0]\n",
    "print(names)\n"
   ]
  },
  {
   "cell_type": "code",
   "execution_count": null,
   "metadata": {
    "collapsed": true
   },
   "outputs": [],
   "source": [
    "# All warplanes are misidentified\n",
    "# Because warplane is not subclass of plane..\n",
    "# Example: idx: 1500 (warplane)"
   ]
  }
 ],
 "metadata": {
  "anaconda-cloud": {},
  "kernelspec": {
   "display_name": "Python [conda root]",
   "language": "python",
   "name": "conda-root-py"
  },
  "language_info": {
   "codemirror_mode": {
    "name": "ipython",
    "version": 3
   },
   "file_extension": ".py",
   "mimetype": "text/x-python",
   "name": "python",
   "nbconvert_exporter": "python",
   "pygments_lexer": "ipython3",
   "version": "3.5.2"
  }
 },
 "nbformat": 4,
 "nbformat_minor": 1
}
